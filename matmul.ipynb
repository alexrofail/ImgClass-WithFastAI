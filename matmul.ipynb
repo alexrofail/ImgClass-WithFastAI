{
  "nbformat": 4,
  "nbformat_minor": 0,
  "metadata": {
    "colab": {
      "name": "matmul.ipynb",
      "provenance": [],
      "collapsed_sections": [],
      "authorship_tag": "ABX9TyMYZ0U9vTCW/a/LxkLF/1nC",
      "include_colab_link": true
    },
    "kernelspec": {
      "name": "python3",
      "display_name": "Python 3"
    }
  },
  "cells": [
    {
      "cell_type": "markdown",
      "metadata": {
        "id": "view-in-github",
        "colab_type": "text"
      },
      "source": [
        "<a href=\"https://colab.research.google.com/github/alexrofail/ImgClass-WithFastAI/blob/main/matmul.ipynb\" target=\"_parent\"><img src=\"https://colab.research.google.com/assets/colab-badge.svg\" alt=\"Open In Colab\"/></a>"
      ]
    },
    {
      "cell_type": "code",
      "metadata": {
        "id": "KHKxk-_qUA-e"
      },
      "source": [
        "from pathlib import Path\n",
        "from IPython.core.debugger import set_trace\n",
        "from fastai import datasets\n",
        "import pickle, gzip, math, torch, matplotlib as mpl\n",
        "import matplotlib.pyplot as plt\n",
        "from torch import tensor"
      ],
      "execution_count": null,
      "outputs": []
    },
    {
      "cell_type": "code",
      "metadata": {
        "id": "2JJJv7SnUF_K"
      },
      "source": [
        "a = torch.tensor([1,0])"
      ],
      "execution_count": null,
      "outputs": []
    },
    {
      "cell_type": "code",
      "metadata": {
        "colab": {
          "base_uri": "https://localhost:8080/"
        },
        "id": "P98W2OX6UOhb",
        "outputId": "fade1339-85d3-45d7-c756-582e89f9031d"
      },
      "source": [
        "a"
      ],
      "execution_count": null,
      "outputs": [
        {
          "output_type": "execute_result",
          "data": {
            "text/plain": [
              "tensor([1, 0])"
            ]
          },
          "metadata": {
            "tags": []
          },
          "execution_count": 4
        }
      ]
    },
    {
      "cell_type": "code",
      "metadata": {
        "id": "1slYQtvLUSff"
      },
      "source": [
        ""
      ],
      "execution_count": null,
      "outputs": []
    },
    {
      "cell_type": "code",
      "metadata": {
        "id": "jBHjMprOUW-x"
      },
      "source": [
        "with gzip.open('mnist.pkl.gz', 'rb') as f:\n",
        "    ((x_train, y_train), (x_valid, y_valid), _) = pickle.load(f, encoding='latin-1')"
      ],
      "execution_count": null,
      "outputs": []
    },
    {
      "cell_type": "code",
      "metadata": {
        "colab": {
          "base_uri": "https://localhost:8080/"
        },
        "id": "fgLPuZwMUaLE",
        "outputId": "6a8544d4-f040-40de-9937-13d2fd1aa3c8"
      },
      "source": [
        "x_train,y_train,x_valid,y_valid = map(tensor, (x_train,y_train,x_valid,y_valid))\n",
        "n,c = x_train.shape\n",
        "x_train, x_train.shape, y_train, y_train.shape, y_train.min(), y_train.max()"
      ],
      "execution_count": null,
      "outputs": [
        {
          "output_type": "execute_result",
          "data": {
            "text/plain": [
              "(tensor([[0., 0., 0.,  ..., 0., 0., 0.],\n",
              "         [0., 0., 0.,  ..., 0., 0., 0.],\n",
              "         [0., 0., 0.,  ..., 0., 0., 0.],\n",
              "         ...,\n",
              "         [0., 0., 0.,  ..., 0., 0., 0.],\n",
              "         [0., 0., 0.,  ..., 0., 0., 0.],\n",
              "         [0., 0., 0.,  ..., 0., 0., 0.]]),\n",
              " torch.Size([50000, 784]),\n",
              " tensor([5, 0, 4,  ..., 8, 4, 8]),\n",
              " torch.Size([50000]),\n",
              " tensor(0),\n",
              " tensor(9))"
            ]
          },
          "metadata": {
            "tags": []
          },
          "execution_count": 6
        }
      ]
    },
    {
      "cell_type": "code",
      "metadata": {
        "id": "2IA9j6hWaFA8"
      },
      "source": [
        "mpl.rcParams['image.cmap'] = 'gray'"
      ],
      "execution_count": null,
      "outputs": []
    },
    {
      "cell_type": "code",
      "metadata": {
        "id": "5i0fPYdOszy2"
      },
      "source": [
        "img = x_train[0]"
      ],
      "execution_count": null,
      "outputs": []
    },
    {
      "cell_type": "code",
      "metadata": {
        "colab": {
          "base_uri": "https://localhost:8080/",
          "height": 35
        },
        "id": "DrSWm9v2sz7s",
        "outputId": "9d3d746b-a550-4bfa-a7bd-3bfc45d3bddb"
      },
      "source": [
        "img.view(28,28).type()"
      ],
      "execution_count": null,
      "outputs": [
        {
          "output_type": "execute_result",
          "data": {
            "application/vnd.google.colaboratory.intrinsic+json": {
              "type": "string"
            },
            "text/plain": [
              "'torch.FloatTensor'"
            ]
          },
          "metadata": {
            "tags": []
          },
          "execution_count": 9
        }
      ]
    },
    {
      "cell_type": "code",
      "metadata": {
        "colab": {
          "base_uri": "https://localhost:8080/",
          "height": 282
        },
        "id": "e46ROcy8sz-2",
        "outputId": "caaf6f37-3471-449a-8682-9bb077bfddc1"
      },
      "source": [
        "plt.imshow(img.view((28,28)))"
      ],
      "execution_count": null,
      "outputs": [
        {
          "output_type": "execute_result",
          "data": {
            "text/plain": [
              "<matplotlib.image.AxesImage at 0x7f7073c9bfd0>"
            ]
          },
          "metadata": {
            "tags": []
          },
          "execution_count": 10
        },
        {
          "output_type": "display_data",
          "data": {
            "image/png": "[encoded data removed]",
            "text/plain": [
              "<Figure size 432x288 with 1 Axes>"
            ]
          },
          "metadata": {
            "tags": [],
            "needs_background": "light"
          }
        }
      ]
    },
    {
      "cell_type": "code",
      "metadata": {
        "id": "BNtQCEi5s0Bf"
      },
      "source": [
        "#linear model y = ax +b \n",
        "weights = torch.randn(784,10)"
      ],
      "execution_count": null,
      "outputs": []
    },
    {
      "cell_type": "code",
      "metadata": {
        "id": "h4hQ7u-xs0Dw"
      },
      "source": [
        "bias = torch.zeros(10)"
      ],
      "execution_count": null,
      "outputs": []
    },
    {
      "cell_type": "code",
      "metadata": {
        "id": "G6nA3oHnuVuN"
      },
      "source": [
        "#Now we need to do matrix multiplacation (affine functions)\n",
        "def matmul(a,b):\n",
        "  #rows and columns of a\n",
        "  ar, ac = a.shape\n",
        "  br, bc = b.shape\n",
        "  assert ac == br\n",
        "  c = torch.zeros(ar, bc)\n",
        "\n",
        "  #three loops representing matrix multiplication\n",
        "  for i in range (ar):\n",
        "    for j in range(bc):\n",
        "      for k in range (ac):  #or b's rows br\n",
        "        c[i,j] += a[i,k] * b[k,j]\n",
        "  return c "
      ],
      "execution_count": null,
      "outputs": []
    },
    {
      "cell_type": "code",
      "metadata": {
        "id": "xMaczIm-uVwc"
      },
      "source": [
        "m1 = x_valid[:5]\n",
        "m2 = weights"
      ],
      "execution_count": null,
      "outputs": []
    },
    {
      "cell_type": "code",
      "metadata": {
        "colab": {
          "base_uri": "https://localhost:8080/"
        },
        "id": "yLhTPkrEuVyt",
        "outputId": "af04bbf4-f1ca-474a-cc4f-bc6eabe93293"
      },
      "source": [
        "m1.shape, m2.shape"
      ],
      "execution_count": null,
      "outputs": [
        {
          "output_type": "execute_result",
          "data": {
            "text/plain": [
              "(torch.Size([5, 784]), torch.Size([784, 10]))"
            ]
          },
          "metadata": {
            "tags": []
          },
          "execution_count": 15
        }
      ]
    },
    {
      "cell_type": "code",
      "metadata": {
        "colab": {
          "base_uri": "https://localhost:8080/"
        },
        "id": "nzA70QLtuV06",
        "outputId": "cf098bd2-4515-4a35-bac8-65d1d9bf2686"
      },
      "source": [
        "%time t1=matmul(m1,m2)"
      ],
      "execution_count": null,
      "outputs": [
        {
          "output_type": "stream",
          "text": [
            "CPU times: user 584 ms, sys: 6.64 ms, total: 591 ms\n",
            "Wall time: 607 ms\n"
          ],
          "name": "stdout"
        }
      ]
    },
    {
      "cell_type": "code",
      "metadata": {
        "colab": {
          "base_uri": "https://localhost:8080/"
        },
        "id": "s45OmOQCuV3H",
        "outputId": "275dc8f6-6de6-451e-a48d-ea505845cfcd"
      },
      "source": [
        "t1.shape"
      ],
      "execution_count": null,
      "outputs": [
        {
          "output_type": "execute_result",
          "data": {
            "text/plain": [
              "torch.Size([5, 10])"
            ]
          },
          "metadata": {
            "tags": []
          },
          "execution_count": 17
        }
      ]
    },
    {
      "cell_type": "code",
      "metadata": {
        "id": "m6WLX8qKuV5Q"
      },
      "source": [
        "#to make this a lot faster we have to pass the computation from python to something like PyTorch (using a10 library)\n"
      ],
      "execution_count": null,
      "outputs": []
    },
    {
      "cell_type": "code",
      "metadata": {
        "colab": {
          "base_uri": "https://localhost:8080/"
        },
        "id": "aq-xVDhrxfeG",
        "outputId": "4907543a-e1e0-4ed3-98f4-a26d61d90447"
      },
      "source": [
        "#We want to use element wise ops, like examples below\n",
        "\n",
        "a = tensor([10,4,11])\n",
        "b = tensor([22,12,3])\n",
        "a,b"
      ],
      "execution_count": null,
      "outputs": [
        {
          "output_type": "execute_result",
          "data": {
            "text/plain": [
              "(tensor([10,  4, 11]), tensor([22, 12,  3]))"
            ]
          },
          "metadata": {
            "tags": []
          },
          "execution_count": 19
        }
      ]
    },
    {
      "cell_type": "code",
      "metadata": {
        "colab": {
          "base_uri": "https://localhost:8080/"
        },
        "id": "avGCNrpJx7Hd",
        "outputId": "7cc6938f-6953-4429-ad8c-153389ba3988"
      },
      "source": [
        "a+b"
      ],
      "execution_count": null,
      "outputs": [
        {
          "output_type": "execute_result",
          "data": {
            "text/plain": [
              "tensor([32, 16, 14])"
            ]
          },
          "metadata": {
            "tags": []
          },
          "execution_count": 20
        }
      ]
    },
    {
      "cell_type": "code",
      "metadata": {
        "colab": {
          "base_uri": "https://localhost:8080/"
        },
        "id": "yjVh7aP8xfgp",
        "outputId": "03795407-99fe-4060-c52f-4129d6479e88"
      },
      "source": [
        "(a<b).float().mean()"
      ],
      "execution_count": null,
      "outputs": [
        {
          "output_type": "execute_result",
          "data": {
            "text/plain": [
              "tensor(0.6667)"
            ]
          },
          "metadata": {
            "tags": []
          },
          "execution_count": 21
        }
      ]
    },
    {
      "cell_type": "code",
      "metadata": {
        "colab": {
          "base_uri": "https://localhost:8080/"
        },
        "id": "NBudnsFCyOXD",
        "outputId": "7da28d11-319e-4371-872f-1ff7e2346d6c"
      },
      "source": [
        "m = tensor([[1,2,3], [4,5,6], [7,8,9]]); m"
      ],
      "execution_count": null,
      "outputs": [
        {
          "output_type": "execute_result",
          "data": {
            "text/plain": [
              "tensor([[1, 2, 3],\n",
              "        [4, 5, 6],\n",
              "        [7, 8, 9]])"
            ]
          },
          "metadata": {
            "tags": []
          },
          "execution_count": 22
        }
      ]
    },
    {
      "cell_type": "code",
      "metadata": {
        "colab": {
          "base_uri": "https://localhost:8080/"
        },
        "id": "V701DM9DxfjX",
        "outputId": "41ba07f7-c5ca-4f54-8d69-43237bb0c550"
      },
      "source": [
        "#Frobenius Norm\n",
        "(m*m).sum().sqrt()"
      ],
      "execution_count": null,
      "outputs": [
        {
          "output_type": "execute_result",
          "data": {
            "text/plain": [
              "tensor(16.8819)"
            ]
          },
          "metadata": {
            "tags": []
          },
          "execution_count": 23
        }
      ]
    },
    {
      "cell_type": "code",
      "metadata": {
        "id": "u44_7RuAuV7c"
      },
      "source": [
        "#Refactor matmul to have two loops not three\n",
        "def matmul(a,b):\n",
        "  def matmul(a,b):\n",
        "    #rows and columns of a\n",
        "    ar, ac = a.shape\n",
        "    br, bc = b.shape\n",
        "    assert ac == br\n",
        "    c = torch.zeros(ar, bc)\n",
        "\n",
        "    #two loops now\n",
        "    for i in range(ar):\n",
        "      for j in range(bc):\n",
        "        c[i,j] = (a[i,:] * b[:,j]).sum()\n",
        "    return c"
      ],
      "execution_count": null,
      "outputs": []
    },
    {
      "cell_type": "code",
      "metadata": {
        "id": "sYMYqSRTzKjb"
      },
      "source": [
        "#broadcasting"
      ],
      "execution_count": null,
      "outputs": []
    },
    {
      "cell_type": "code",
      "metadata": {
        "id": "ybGe6MpZ1VQG"
      },
      "source": [
        "c = tensor([10,20,30])"
      ],
      "execution_count": null,
      "outputs": []
    },
    {
      "cell_type": "code",
      "metadata": {
        "colab": {
          "base_uri": "https://localhost:8080/"
        },
        "id": "GxcSnStm1VSA",
        "outputId": "9a57a46e-6c22-4788-eed7-3554dff9e963"
      },
      "source": [
        "m"
      ],
      "execution_count": null,
      "outputs": [
        {
          "output_type": "execute_result",
          "data": {
            "text/plain": [
              "tensor([[1, 2, 3],\n",
              "        [4, 5, 6],\n",
              "        [7, 8, 9]])"
            ]
          },
          "metadata": {
            "tags": []
          },
          "execution_count": 27
        }
      ]
    },
    {
      "cell_type": "code",
      "metadata": {
        "colab": {
          "base_uri": "https://localhost:8080/"
        },
        "id": "tvSDMS1ZzKph",
        "outputId": "7f2c2398-1afb-4fe6-86ea-49da46cd95a1"
      },
      "source": [
        "m.shape, c.shape"
      ],
      "execution_count": null,
      "outputs": [
        {
          "output_type": "execute_result",
          "data": {
            "text/plain": [
              "(torch.Size([3, 3]), torch.Size([3]))"
            ]
          },
          "metadata": {
            "tags": []
          },
          "execution_count": 28
        }
      ]
    },
    {
      "cell_type": "code",
      "metadata": {
        "colab": {
          "base_uri": "https://localhost:8080/"
        },
        "id": "SubcPxXsuV9R",
        "outputId": "9f0fa99f-7d25-4c92-fe39-b118cffccb2d"
      },
      "source": [
        "m+c"
      ],
      "execution_count": null,
      "outputs": [
        {
          "output_type": "execute_result",
          "data": {
            "text/plain": [
              "tensor([[11, 22, 33],\n",
              "        [14, 25, 36],\n",
              "        [17, 28, 39]])"
            ]
          },
          "metadata": {
            "tags": []
          },
          "execution_count": 29
        }
      ]
    },
    {
      "cell_type": "code",
      "metadata": {
        "id": "1JA0wWsj3u6t"
      },
      "source": [
        "t = c.expand_as(m)"
      ],
      "execution_count": null,
      "outputs": []
    },
    {
      "cell_type": "code",
      "metadata": {
        "colab": {
          "base_uri": "https://localhost:8080/"
        },
        "id": "k8v2H5em3u86",
        "outputId": "49e6ce4e-e017-4927-af1f-7dca604f6bc4"
      },
      "source": [
        "t"
      ],
      "execution_count": null,
      "outputs": [
        {
          "output_type": "execute_result",
          "data": {
            "text/plain": [
              "tensor([[10, 20, 30],\n",
              "        [10, 20, 30],\n",
              "        [10, 20, 30]])"
            ]
          },
          "metadata": {
            "tags": []
          },
          "execution_count": 31
        }
      ]
    },
    {
      "cell_type": "code",
      "metadata": {
        "colab": {
          "base_uri": "https://localhost:8080/"
        },
        "id": "xS0u-0gk3u_E",
        "outputId": "a4bdb690-a28d-43b3-8c8c-e36f9954551e"
      },
      "source": [
        "t.storage()"
      ],
      "execution_count": null,
      "outputs": [
        {
          "output_type": "execute_result",
          "data": {
            "text/plain": [
              " 10\n",
              " 20\n",
              " 30\n",
              "[torch.LongStorage of size 3]"
            ]
          },
          "metadata": {
            "tags": []
          },
          "execution_count": 32
        }
      ]
    },
    {
      "cell_type": "code",
      "metadata": {
        "colab": {
          "base_uri": "https://localhost:8080/"
        },
        "id": "w0LJgka83vBM",
        "outputId": "bac05bc1-fdfa-47b3-82f9-b6037dbc76ed"
      },
      "source": [
        "t.stride(), t.shape"
      ],
      "execution_count": null,
      "outputs": [
        {
          "output_type": "execute_result",
          "data": {
            "text/plain": [
              "((0, 1), torch.Size([3, 3]))"
            ]
          },
          "metadata": {
            "tags": []
          },
          "execution_count": 33
        }
      ]
    },
    {
      "cell_type": "code",
      "metadata": {
        "colab": {
          "base_uri": "https://localhost:8080/"
        },
        "id": "EdxBTEOx3vDe",
        "outputId": "a96514a4-e514-4cad-e878-9af2c4df5e6e"
      },
      "source": [
        "c.shape, c.unsqueeze(0).shape, c.unsqueeze(1).shape"
      ],
      "execution_count": null,
      "outputs": [
        {
          "output_type": "execute_result",
          "data": {
            "text/plain": [
              "(torch.Size([3]), torch.Size([1, 3]), torch.Size([3, 1]))"
            ]
          },
          "metadata": {
            "tags": []
          },
          "execution_count": 34
        }
      ]
    },
    {
      "cell_type": "code",
      "metadata": {
        "colab": {
          "base_uri": "https://localhost:8080/"
        },
        "id": "HvVy6Lf13vHu",
        "outputId": "c3ad8011-f94f-45c2-cf23-1c39dc7726e3"
      },
      "source": [
        "c.shape, c[None,:].shape, c[:,None].shape"
      ],
      "execution_count": null,
      "outputs": [
        {
          "output_type": "execute_result",
          "data": {
            "text/plain": [
              "(torch.Size([3]), torch.Size([1, 3]), torch.Size([3, 1]))"
            ]
          },
          "metadata": {
            "tags": []
          },
          "execution_count": 35
        }
      ]
    },
    {
      "cell_type": "code",
      "metadata": {
        "colab": {
          "base_uri": "https://localhost:8080/"
        },
        "id": "Fr9PyF_43vJq",
        "outputId": "068597ee-fd70-46ab-9842-2d4be83e3ea8"
      },
      "source": [
        "c[:,None].expand_as(m)"
      ],
      "execution_count": null,
      "outputs": [
        {
          "output_type": "execute_result",
          "data": {
            "text/plain": [
              "tensor([[10, 10, 10],\n",
              "        [20, 20, 20],\n",
              "        [30, 30, 30]])"
            ]
          },
          "metadata": {
            "tags": []
          },
          "execution_count": 36
        }
      ]
    },
    {
      "cell_type": "code",
      "metadata": {
        "colab": {
          "base_uri": "https://localhost:8080/"
        },
        "id": "wGNtg3kx3vL-",
        "outputId": "f7f3a189-7f51-4c16-d08b-6e59d7e51dbf"
      },
      "source": [
        "m + c[:,None]"
      ],
      "execution_count": null,
      "outputs": [
        {
          "output_type": "execute_result",
          "data": {
            "text/plain": [
              "tensor([[11, 12, 13],\n",
              "        [24, 25, 26],\n",
              "        [37, 38, 39]])"
            ]
          },
          "metadata": {
            "tags": []
          },
          "execution_count": 37
        }
      ]
    },
    {
      "cell_type": "code",
      "metadata": {
        "id": "6jxBtrMY3vOV"
      },
      "source": [
        "#Matrix Multiply with Broadcasting\n",
        "def matmul(a,b):\n",
        "  #rows and columns of a\n",
        "    ar, ac = a.shape\n",
        "    br, bc = b.shape\n",
        "    assert ac == br\n",
        "    c = torch.zeros(ar, bc)\n",
        "    for i in range(ar):\n",
        "      c[i] = (a[i].unsqueeze(-1) * b).sum(dim=0) # or you can write a[i,None] *b ... instead of unsqueeze\n",
        "\n",
        "    return c"
      ],
      "execution_count": null,
      "outputs": []
    },
    {
      "cell_type": "code",
      "metadata": {
        "id": "-F93r0Hs3vQL"
      },
      "source": [
        "#Einstein Summation\n",
        "\n",
        "def matmul(a,b): return torch.einsum('ik,kj -> ij', a,b)"
      ],
      "execution_count": null,
      "outputs": []
    },
    {
      "cell_type": "code",
      "metadata": {
        "id": "_AM4bH933vSn",
        "colab": {
          "base_uri": "https://localhost:8080/"
        },
        "outputId": "4a5dec4d-1566-4048-df64-24fdb5420ada"
      },
      "source": [
        "%timeit -n 10 _=matmul(m1,m2)"
      ],
      "execution_count": null,
      "outputs": [
        {
          "output_type": "stream",
          "text": [
            "The slowest run took 83.69 times longer than the fastest. This could mean that an intermediate result is being cached.\n",
            "10 loops, best of 5: 22.5 µs per loop\n"
          ],
          "name": "stdout"
        }
      ]
    },
    {
      "cell_type": "code",
      "metadata": {
        "id": "ng-HzZtC3vU8",
        "colab": {
          "base_uri": "https://localhost:8080/"
        },
        "outputId": "fcc2018b-fe54-47f7-8403-fef3a0c6b4c4"
      },
      "source": [
        "#Even faster than einsum is PyTorch Op, matmul as a method basically\n",
        "%timeit -n 10 t2 = m1.matmul(m2)"
      ],
      "execution_count": null,
      "outputs": [
        {
          "output_type": "stream",
          "text": [
            "The slowest run took 5.69 times longer than the fastest. This could mean that an intermediate result is being cached.\n",
            "10 loops, best of 5: 8.37 µs per loop\n"
          ],
          "name": "stdout"
        }
      ]
    },
    {
      "cell_type": "code",
      "metadata": {
        "id": "HzVqIUL77s4E"
      },
      "source": [
        "#Forward and Backward passing, now we are doing NNs\n",
        "\n",
        "def normalize(x,m,s): return (x-m)/s"
      ],
      "execution_count": null,
      "outputs": []
    },
    {
      "cell_type": "code",
      "metadata": {
        "colab": {
          "base_uri": "https://localhost:8080/"
        },
        "id": "tjDcrtUa7s6H",
        "outputId": "3858324b-0186-47f4-f0e6-78830ffac7cd"
      },
      "source": [
        "train_mean, train_std = x_train.mean(), x_train.std()\n",
        "train_mean, train_std"
      ],
      "execution_count": null,
      "outputs": [
        {
          "output_type": "execute_result",
          "data": {
            "text/plain": [
              "(tensor(0.1304), tensor(0.3073))"
            ]
          },
          "metadata": {
            "tags": []
          },
          "execution_count": 43
        }
      ]
    },
    {
      "cell_type": "code",
      "metadata": {
        "colab": {
          "base_uri": "https://localhost:8080/"
        },
        "id": "Erk-dkLI7s8N",
        "outputId": "dc2cbbd8-8375-4b9e-888d-aff85dda1de7"
      },
      "source": [
        "x_train = normalize(x_train, train_mean, train_std)\n",
        "x_valid = normalize(x_valid, train_mean, train_std)\n",
        "train_mean, train_std = x_train.mean(), x_train.std()\n",
        "train_mean, train_std"
      ],
      "execution_count": null,
      "outputs": [
        {
          "output_type": "execute_result",
          "data": {
            "text/plain": [
              "(tensor(3.8966e-08), tensor(1.))"
            ]
          },
          "metadata": {
            "tags": []
          },
          "execution_count": 44
        }
      ]
    },
    {
      "cell_type": "code",
      "metadata": {
        "id": "QWWaj2d87s-o"
      },
      "source": [
        "def test_near_zero(a, tol=1e-3): assert a.abs()<tol, f\"Near zero: {a}\""
      ],
      "execution_count": null,
      "outputs": []
    },
    {
      "cell_type": "code",
      "metadata": {
        "id": "1BNxvauX7tAp"
      },
      "source": [
        "test_near_zero(x_train.mean())\n",
        "test_near_zero(1-x_train.std())"
      ],
      "execution_count": null,
      "outputs": []
    },
    {
      "cell_type": "code",
      "metadata": {
        "colab": {
          "base_uri": "https://localhost:8080/"
        },
        "id": "BYq48fJ17tC1",
        "outputId": "134fc42f-6947-4a54-c1a8-7623998a2508"
      },
      "source": [
        "n, m = x_train.shape\n",
        "c = y_train.max()+1\n",
        "n,m,c"
      ],
      "execution_count": null,
      "outputs": [
        {
          "output_type": "execute_result",
          "data": {
            "text/plain": [
              "(50000, 784, tensor(10))"
            ]
          },
          "metadata": {
            "tags": []
          },
          "execution_count": 47
        }
      ]
    },
    {
      "cell_type": "code",
      "metadata": {
        "id": "a8MZfxFl7tE_"
      },
      "source": [
        "#Basic Architecture\n",
        "nh = 50"
      ],
      "execution_count": null,
      "outputs": []
    },
    {
      "cell_type": "code",
      "metadata": {
        "id": "pPtZY29ZAfaJ"
      },
      "source": [
        "#Weights and Biases matrices\n",
        "w1 = torch.randn(m,nh)/math.sqrt(m)\n",
        "b1 = torch.zeros(nh)\n",
        "w2 = torch.randn(nh,1)/math.sqrt(nh)\n",
        "b2 = torch.zeros(1)"
      ],
      "execution_count": null,
      "outputs": []
    },
    {
      "cell_type": "code",
      "metadata": {
        "id": "SE1wUh7wAfcj"
      },
      "source": [
        "test_near_zero(w1.mean())\n",
        "test_near_zero(w1.std()-1/math.sqrt(m))"
      ],
      "execution_count": null,
      "outputs": []
    },
    {
      "cell_type": "code",
      "metadata": {
        "colab": {
          "base_uri": "https://localhost:8080/"
        },
        "id": "snfnoZIhAfel",
        "outputId": "0e6ce17a-2e69-464c-c375-0d651f2bb4b2"
      },
      "source": [
        "x_valid.mean(), x_valid.std()"
      ],
      "execution_count": null,
      "outputs": [
        {
          "output_type": "execute_result",
          "data": {
            "text/plain": [
              "(tensor(-0.0059), tensor(0.9924))"
            ]
          },
          "metadata": {
            "tags": []
          },
          "execution_count": 51
        }
      ]
    },
    {
      "cell_type": "code",
      "metadata": {
        "id": "_Et8aWVMfGwj"
      },
      "source": [
        "def lin(x, w, b): return x@w + b "
      ],
      "execution_count": null,
      "outputs": []
    },
    {
      "cell_type": "code",
      "metadata": {
        "colab": {
          "base_uri": "https://localhost:8080/"
        },
        "id": "ruiHbWEbfGzP",
        "outputId": "6a801a85-d799-43ab-c11e-9a669c489c95"
      },
      "source": [
        "t = lin(x_valid, w1, b1)\n",
        "t.mean(), t.std()"
      ],
      "execution_count": null,
      "outputs": [
        {
          "output_type": "execute_result",
          "data": {
            "text/plain": [
              "(tensor(0.0365), tensor(1.0008))"
            ]
          },
          "metadata": {
            "tags": []
          },
          "execution_count": 53
        }
      ]
    },
    {
      "cell_type": "code",
      "metadata": {
        "id": "hXzsgX7FAfga"
      },
      "source": [
        "#First layer will not just be a regular linear function, it will be a ReLu\n",
        "#The clamp function here just takes all neg. values and makes 0\n",
        "def relu(x): return x.clamp_min(0.)"
      ],
      "execution_count": 70,
      "outputs": []
    },
    {
      "cell_type": "code",
      "metadata": {
        "id": "fXPYBwk6DVFB",
        "colab": {
          "base_uri": "https://localhost:8080/"
        },
        "outputId": "2980cb7d-de06-49e2-8838-c7f6c019570a"
      },
      "source": [
        "t = relu(lin(x_valid, w1,b1))\n",
        "t.mean(), t.std()"
      ],
      "execution_count": null,
      "outputs": [
        {
          "output_type": "execute_result",
          "data": {
            "text/plain": [
              "(tensor(0.4163), tensor(0.6069))"
            ]
          },
          "metadata": {
            "tags": []
          },
          "execution_count": 55
        }
      ]
    },
    {
      "cell_type": "code",
      "metadata": {
        "id": "hjqDoaPuDVHK"
      },
      "source": [
        "#kaiming initializing\n",
        "w1 = torch.randn(m,nh)*math.sqrt(2/m)"
      ],
      "execution_count": 78,
      "outputs": []
    },
    {
      "cell_type": "code",
      "metadata": {
        "id": "1YUOyExUDVJM",
        "colab": {
          "base_uri": "https://localhost:8080/"
        },
        "outputId": "49f3f364-834f-4f0a-e9d7-e9c813e1de95"
      },
      "source": [
        "w1.mean(), w1.std()"
      ],
      "execution_count": 79,
      "outputs": [
        {
          "output_type": "execute_result",
          "data": {
            "text/plain": [
              "(tensor(-0.0004), tensor(0.0503))"
            ]
          },
          "metadata": {
            "tags": []
          },
          "execution_count": 79
        }
      ]
    },
    {
      "cell_type": "code",
      "metadata": {
        "id": "rw00SgwBAfit"
      },
      "source": [
        "from torch.nn import init"
      ],
      "execution_count": null,
      "outputs": []
    },
    {
      "cell_type": "code",
      "metadata": {
        "id": "8K7qWrgdhXz1"
      },
      "source": [
        "w1 = torch.zeros(m,nh)\n",
        "init.kaiming_normal_(w1, mode='fan_out')\n",
        "t = relu(lin(x_valid, w1, b1))"
      ],
      "execution_count": null,
      "outputs": []
    },
    {
      "cell_type": "code",
      "metadata": {
        "id": "rG8jyVMghX2Z"
      },
      "source": [
        "init.kaiming_normal_??"
      ],
      "execution_count": null,
      "outputs": []
    },
    {
      "cell_type": "code",
      "metadata": {
        "colab": {
          "base_uri": "https://localhost:8080/"
        },
        "id": "ShoyhFCMhX4w",
        "outputId": "0bcb82d6-510d-4fbe-ef60-980d87b4b262"
      },
      "source": [
        "w1.mean(), w1.std()"
      ],
      "execution_count": null,
      "outputs": [
        {
          "output_type": "execute_result",
          "data": {
            "text/plain": [
              "(tensor(-0.0002), tensor(0.0501))"
            ]
          },
          "metadata": {
            "tags": []
          },
          "execution_count": 61
        }
      ]
    },
    {
      "cell_type": "code",
      "metadata": {
        "colab": {
          "base_uri": "https://localhost:8080/"
        },
        "id": "nCcf7iJKhX9H",
        "outputId": "b709fe61-d455-4ce4-c90f-f10a7b543200"
      },
      "source": [
        "t.mean(), t.std()"
      ],
      "execution_count": null,
      "outputs": [
        {
          "output_type": "execute_result",
          "data": {
            "text/plain": [
              "(tensor(0.6534), tensor(0.9072))"
            ]
          },
          "metadata": {
            "tags": []
          },
          "execution_count": 62
        }
      ]
    },
    {
      "cell_type": "code",
      "metadata": {
        "colab": {
          "base_uri": "https://localhost:8080/"
        },
        "id": "BCX7tRpShX_O",
        "outputId": "01543985-0128-4fa2-ac4f-efd9d4534cee"
      },
      "source": [
        "w1.shape"
      ],
      "execution_count": null,
      "outputs": [
        {
          "output_type": "execute_result",
          "data": {
            "text/plain": [
              "torch.Size([784, 50])"
            ]
          },
          "metadata": {
            "tags": []
          },
          "execution_count": 63
        }
      ]
    },
    {
      "cell_type": "code",
      "metadata": {
        "id": "XdlTscbCejsv"
      },
      "source": [
        "import torch.nn"
      ],
      "execution_count": null,
      "outputs": []
    },
    {
      "cell_type": "code",
      "metadata": {
        "colab": {
          "base_uri": "https://localhost:8080/"
        },
        "id": "LbIKxlYPlOFN",
        "outputId": "834b7e81-a063-46a1-afda-6d423e2e0c1e"
      },
      "source": [
        "torch.nn.Linear(m,nh).weight.shape"
      ],
      "execution_count": null,
      "outputs": [
        {
          "output_type": "execute_result",
          "data": {
            "text/plain": [
              "torch.Size([50, 784])"
            ]
          },
          "metadata": {
            "tags": []
          },
          "execution_count": 65
        }
      ]
    },
    {
      "cell_type": "code",
      "metadata": {
        "id": "uOCE6mqMlSc1"
      },
      "source": [
        "torch.nn.Linear.forward??"
      ],
      "execution_count": null,
      "outputs": []
    },
    {
      "cell_type": "code",
      "metadata": {
        "id": "rn8BnxRolSfv"
      },
      "source": [
        "torch.nn.functional.linear??"
      ],
      "execution_count": null,
      "outputs": []
    },
    {
      "cell_type": "code",
      "metadata": {
        "id": "sN7rgBfflOIF"
      },
      "source": [
        "torch.nn.Conv2d??"
      ],
      "execution_count": null,
      "outputs": []
    },
    {
      "cell_type": "code",
      "metadata": {
        "id": "MrtEWgXslOKP"
      },
      "source": [
        "torch.nn.modules.conv._ConvNd.reset_parameters??"
      ],
      "execution_count": null,
      "outputs": []
    },
    {
      "cell_type": "code",
      "metadata": {
        "id": "pcWoQHtGlOMf"
      },
      "source": [
        "#experiment\n",
        "def relu(x): return x.clamp_min(0.) - 0.5"
      ],
      "execution_count": 80,
      "outputs": []
    },
    {
      "cell_type": "code",
      "metadata": {
        "id": "dySDsuTHN6nx"
      },
      "source": [
        "w1 = torch.randn(m,nh)*math.sqrt(2./m)\n",
        "t1 = relu(lin(x_valid, w1, b1))"
      ],
      "execution_count": 81,
      "outputs": []
    },
    {
      "cell_type": "code",
      "metadata": {
        "id": "tAA-__wHN6p4",
        "colab": {
          "base_uri": "https://localhost:8080/"
        },
        "outputId": "988a0507-b7b5-410d-f52b-5aa0cb8e3ff1"
      },
      "source": [
        "t1.mean(), t1.std()"
      ],
      "execution_count": 82,
      "outputs": [
        {
          "output_type": "execute_result",
          "data": {
            "text/plain": [
              "(tensor(0.0272), tensor(0.8248))"
            ]
          },
          "metadata": {
            "tags": []
          },
          "execution_count": 82
        }
      ]
    },
    {
      "cell_type": "code",
      "metadata": {
        "id": "NM2b5yp-N6sO"
      },
      "source": [
        "#super ultra mega basic model\n",
        "def model(xb):\n",
        "  layer1 = lin(xb, w1,b1)\n",
        "  activation1 = relu(layer1)\n",
        "  layer3 = lin(layer2, w2,b2)\n",
        "  return layer3"
      ],
      "execution_count": 83,
      "outputs": []
    },
    {
      "cell_type": "code",
      "metadata": {
        "id": "HpCDH927AOQX"
      },
      "source": [
        ""
      ],
      "execution_count": null,
      "outputs": []
    },
    {
      "cell_type": "code",
      "metadata": {
        "id": "PGq2PdtrAOTB"
      },
      "source": [
        ""
      ],
      "execution_count": null,
      "outputs": []
    },
    {
      "cell_type": "code",
      "metadata": {
        "id": "5-j4_lrDAOVC"
      },
      "source": [
        ""
      ],
      "execution_count": null,
      "outputs": []
    },
    {
      "cell_type": "code",
      "metadata": {
        "id": "WYOUsBQfnQCN"
      },
      "source": [
        ""
      ],
      "execution_count": null,
      "outputs": []
    },
    {
      "cell_type": "code",
      "metadata": {
        "id": "VJw68QS3ej5e"
      },
      "source": [
        ""
      ],
      "execution_count": null,
      "outputs": []
    },
    {
      "cell_type": "code",
      "metadata": {
        "id": "-y-CnvWfej9r"
      },
      "source": [
        ""
      ],
      "execution_count": null,
      "outputs": []
    },
    {
      "cell_type": "code",
      "metadata": {
        "id": "iU0GDsCrqViH"
      },
      "source": [
        "from google.colab import drive\n",
        "drive.mount('/content/drive')"
      ],
      "execution_count": null,
      "outputs": []
    },
    {
      "cell_type": "code",
      "metadata": {
        "id": "CftyCvEM3tCM"
      },
      "source": [
        ""
      ],
      "execution_count": null,
      "outputs": []
    }
  ]
}