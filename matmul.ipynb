{
  "nbformat": 4,
  "nbformat_minor": 0,
  "metadata": {
    "colab": {
      "name": "matmul.ipynb",
      "provenance": [],
      "collapsed_sections": [],
      "authorship_tag": "ABX9TyNBb3rOeX/Kdb/hP4EPqGDL",
      "include_colab_link": true
    },
    "kernelspec": {
      "name": "python3",
      "display_name": "Python 3"
    }
  },
  "cells": [
    {
      "cell_type": "markdown",
      "metadata": {
        "id": "view-in-github",
        "colab_type": "text"
      },
      "source": [
        "<a href=\"https://colab.research.google.com/github/alexrofail/ImgClass-WithFastAI/blob/main/matmul.ipynb\" target=\"_parent\"><img src=\"https://colab.research.google.com/assets/colab-badge.svg\" alt=\"Open In Colab\"/></a>"
      ]
    },
    {
      "cell_type": "code",
      "metadata": {
        "id": "KHKxk-_qUA-e"
      },
      "source": [
        "from pathlib import Path\n",
        "from IPython.core.debugger import set_trace\n",
        "from fastai import datasets\n",
        "import pickle, gzip, math, torch, matplotlib as mpl\n",
        "import matplotlib.pyplot as plt\n",
        "from torch import tensor"
      ],
      "execution_count": 1,
      "outputs": []
    },
    {
      "cell_type": "code",
      "metadata": {
        "id": "2JJJv7SnUF_K"
      },
      "source": [
        "a = torch.tensor([1,0])"
      ],
      "execution_count": 2,
      "outputs": []
    },
    {
      "cell_type": "code",
      "metadata": {
        "colab": {
          "base_uri": "https://localhost:8080/"
        },
        "id": "P98W2OX6UOhb",
        "outputId": "05e0ae7a-6266-41a9-aa4d-8a8a6614691a"
      },
      "source": [
        "a"
      ],
      "execution_count": 3,
      "outputs": [
        {
          "output_type": "execute_result",
          "data": {
            "text/plain": [
              "tensor([1, 0])"
            ]
          },
          "metadata": {
            "tags": []
          },
          "execution_count": 3
        }
      ]
    },
    {
      "cell_type": "code",
      "metadata": {
        "id": "1slYQtvLUSff"
      },
      "source": [
        ""
      ],
      "execution_count": 3,
      "outputs": []
    },
    {
      "cell_type": "code",
      "metadata": {
        "id": "jBHjMprOUW-x"
      },
      "source": [
        "with gzip.open('mnist.pkl.gz', 'rb') as f:\n",
        "    ((x_train, y_train), (x_valid, y_valid), _) = pickle.load(f, encoding='latin-1')"
      ],
      "execution_count": 4,
      "outputs": []
    },
    {
      "cell_type": "code",
      "metadata": {
        "colab": {
          "base_uri": "https://localhost:8080/"
        },
        "id": "fgLPuZwMUaLE",
        "outputId": "3689ad9c-4389-4df4-807d-b668bb1ea52a"
      },
      "source": [
        "x_train,y_train,x_valid,y_valid = map(tensor, (x_train,y_train,x_valid,y_valid))\n",
        "n,c = x_train.shape\n",
        "x_train, x_train.shape, y_train, y_train.shape, y_train.min(), y_train.max()"
      ],
      "execution_count": 5,
      "outputs": [
        {
          "output_type": "execute_result",
          "data": {
            "text/plain": [
              "(tensor([[0., 0., 0.,  ..., 0., 0., 0.],\n",
              "         [0., 0., 0.,  ..., 0., 0., 0.],\n",
              "         [0., 0., 0.,  ..., 0., 0., 0.],\n",
              "         ...,\n",
              "         [0., 0., 0.,  ..., 0., 0., 0.],\n",
              "         [0., 0., 0.,  ..., 0., 0., 0.],\n",
              "         [0., 0., 0.,  ..., 0., 0., 0.]]),\n",
              " torch.Size([50000, 784]),\n",
              " tensor([5, 0, 4,  ..., 8, 4, 8]),\n",
              " torch.Size([50000]),\n",
              " tensor(0),\n",
              " tensor(9))"
            ]
          },
          "metadata": {
            "tags": []
          },
          "execution_count": 5
        }
      ]
    },
    {
      "cell_type": "code",
      "metadata": {
        "id": "2IA9j6hWaFA8"
      },
      "source": [
        "mpl.rcParams['image.cmap'] = 'gray'"
      ],
      "execution_count": 6,
      "outputs": []
    },
    {
      "cell_type": "code",
      "metadata": {
        "id": "5i0fPYdOszy2"
      },
      "source": [
        "img = x_train[0]"
      ],
      "execution_count": 7,
      "outputs": []
    },
    {
      "cell_type": "code",
      "metadata": {
        "colab": {
          "base_uri": "https://localhost:8080/",
          "height": 35
        },
        "id": "DrSWm9v2sz7s",
        "outputId": "c0dcf919-eda1-4471-d062-7fd891142cba"
      },
      "source": [
        "img.view(28,28).type()"
      ],
      "execution_count": 8,
      "outputs": [
        {
          "output_type": "execute_result",
          "data": {
            "application/vnd.google.colaboratory.intrinsic+json": {
              "type": "string"
            },
            "text/plain": [
              "'torch.FloatTensor'"
            ]
          },
          "metadata": {
            "tags": []
          },
          "execution_count": 8
        }
      ]
    },
    {
      "cell_type": "code",
      "metadata": {
        "colab": {
          "base_uri": "https://localhost:8080/",
          "height": 282
        },
        "id": "e46ROcy8sz-2",
        "outputId": "d5c9c1aa-7dfe-4795-c945-9a3f265ab3df"
      },
      "source": [
        "plt.imshow(img.view((28,28)))"
      ],
      "execution_count": 9,
      "outputs": [
        {
          "output_type": "execute_result",
          "data": {
            "text/plain": [
              "<matplotlib.image.AxesImage at 0x7fa814ad6cd0>"
            ]
          },
          "metadata": {
            "tags": []
          },
          "execution_count": 9
        },
        {
          "output_type": "display_data",
          "data": {
            "image/png": "[encoded data removed]",
            "text/plain": [
              "<Figure size 432x288 with 1 Axes>"
            ]
          },
          "metadata": {
            "tags": [],
            "needs_background": "light"
          }
        }
      ]
    },
    {
      "cell_type": "code",
      "metadata": {
        "id": "BNtQCEi5s0Bf"
      },
      "source": [
        "#linear model y = ax +b \n",
        "weights = torch.randn(784,10)"
      ],
      "execution_count": 10,
      "outputs": []
    },
    {
      "cell_type": "code",
      "metadata": {
        "id": "h4hQ7u-xs0Dw"
      },
      "source": [
        "bias = torch.zeros(10)"
      ],
      "execution_count": 11,
      "outputs": []
    },
    {
      "cell_type": "code",
      "metadata": {
        "id": "G6nA3oHnuVuN"
      },
      "source": [
        "#Now we need to do matrix multiplacation (affine functions)\n",
        "def matmul(a,b):\n",
        "  #rows and columns of a\n",
        "  ar, ac = a.shape\n",
        "  br, bc = b.shape\n",
        "  assert ac == br\n",
        "  c = torch.zeros(ar, bc)\n",
        "\n",
        "  #three loops representing matrix multiplication\n",
        "  for i in range (ar):\n",
        "    for j in range(bc):\n",
        "      for k in range (ac):  #or b's rows br\n",
        "        c[i,j] += a[i,k] * b[k,j]\n",
        "  return c "
      ],
      "execution_count": 12,
      "outputs": []
    },
    {
      "cell_type": "code",
      "metadata": {
        "id": "xMaczIm-uVwc"
      },
      "source": [
        "m1 = x_valid[:5]\n",
        "m2 = weights"
      ],
      "execution_count": 13,
      "outputs": []
    },
    {
      "cell_type": "code",
      "metadata": {
        "colab": {
          "base_uri": "https://localhost:8080/"
        },
        "id": "yLhTPkrEuVyt",
        "outputId": "ca4c088a-fee7-48f1-ffc6-49f0168607a6"
      },
      "source": [
        "m1.shape, m2.shape"
      ],
      "execution_count": 14,
      "outputs": [
        {
          "output_type": "execute_result",
          "data": {
            "text/plain": [
              "(torch.Size([5, 784]), torch.Size([784, 10]))"
            ]
          },
          "metadata": {
            "tags": []
          },
          "execution_count": 14
        }
      ]
    },
    {
      "cell_type": "code",
      "metadata": {
        "colab": {
          "base_uri": "https://localhost:8080/"
        },
        "id": "nzA70QLtuV06",
        "outputId": "e5aaceb8-a7f9-4a04-9700-aabfd064f8e1"
      },
      "source": [
        "%time t1=matmul(m1,m2)"
      ],
      "execution_count": 15,
      "outputs": [
        {
          "output_type": "stream",
          "text": [
            "CPU times: user 572 ms, sys: 414 µs, total: 572 ms\n",
            "Wall time: 582 ms\n"
          ],
          "name": "stdout"
        }
      ]
    },
    {
      "cell_type": "code",
      "metadata": {
        "colab": {
          "base_uri": "https://localhost:8080/"
        },
        "id": "s45OmOQCuV3H",
        "outputId": "83424014-a10e-4a57-d2b5-3384aef8b610"
      },
      "source": [
        "t1.shape"
      ],
      "execution_count": 16,
      "outputs": [
        {
          "output_type": "execute_result",
          "data": {
            "text/plain": [
              "torch.Size([5, 10])"
            ]
          },
          "metadata": {
            "tags": []
          },
          "execution_count": 16
        }
      ]
    },
    {
      "cell_type": "code",
      "metadata": {
        "id": "m6WLX8qKuV5Q"
      },
      "source": [
        "#to make this a lot faster we have to pass the computation from python to something like PyTorch (using a10 library)\n"
      ],
      "execution_count": 17,
      "outputs": []
    },
    {
      "cell_type": "code",
      "metadata": {
        "colab": {
          "base_uri": "https://localhost:8080/"
        },
        "id": "aq-xVDhrxfeG",
        "outputId": "47ef1dd1-73fc-433e-85ac-0d625068892d"
      },
      "source": [
        "#We want to use element wise ops, like examples below\n",
        "\n",
        "a = tensor([10,4,11])\n",
        "b = tensor([22,12,3])\n",
        "a,b"
      ],
      "execution_count": 18,
      "outputs": [
        {
          "output_type": "execute_result",
          "data": {
            "text/plain": [
              "(tensor([10,  4, 11]), tensor([22, 12,  3]))"
            ]
          },
          "metadata": {
            "tags": []
          },
          "execution_count": 18
        }
      ]
    },
    {
      "cell_type": "code",
      "metadata": {
        "colab": {
          "base_uri": "https://localhost:8080/"
        },
        "id": "avGCNrpJx7Hd",
        "outputId": "b3d94bbd-cf97-4e44-c7f0-ba7d06289173"
      },
      "source": [
        "a+b"
      ],
      "execution_count": 19,
      "outputs": [
        {
          "output_type": "execute_result",
          "data": {
            "text/plain": [
              "tensor([32, 16, 14])"
            ]
          },
          "metadata": {
            "tags": []
          },
          "execution_count": 19
        }
      ]
    },
    {
      "cell_type": "code",
      "metadata": {
        "colab": {
          "base_uri": "https://localhost:8080/"
        },
        "id": "yjVh7aP8xfgp",
        "outputId": "0fde7149-e35a-405e-d08e-f5265007111f"
      },
      "source": [
        "(a<b).float().mean()"
      ],
      "execution_count": 20,
      "outputs": [
        {
          "output_type": "execute_result",
          "data": {
            "text/plain": [
              "tensor(0.6667)"
            ]
          },
          "metadata": {
            "tags": []
          },
          "execution_count": 20
        }
      ]
    },
    {
      "cell_type": "code",
      "metadata": {
        "colab": {
          "base_uri": "https://localhost:8080/"
        },
        "id": "NBudnsFCyOXD",
        "outputId": "c6dee3ab-55c4-4dad-e7c4-ee8a35b85bde"
      },
      "source": [
        "m = tensor([[1,2,3], [4,5,6], [7,8,9]]); m"
      ],
      "execution_count": 21,
      "outputs": [
        {
          "output_type": "execute_result",
          "data": {
            "text/plain": [
              "tensor([[1, 2, 3],\n",
              "        [4, 5, 6],\n",
              "        [7, 8, 9]])"
            ]
          },
          "metadata": {
            "tags": []
          },
          "execution_count": 21
        }
      ]
    },
    {
      "cell_type": "code",
      "metadata": {
        "colab": {
          "base_uri": "https://localhost:8080/"
        },
        "id": "V701DM9DxfjX",
        "outputId": "d6cf64d1-81d3-48f0-b756-3762ce7a44dc"
      },
      "source": [
        "#Frobenius Norm\n",
        "(m*m).sum().sqrt()"
      ],
      "execution_count": 22,
      "outputs": [
        {
          "output_type": "execute_result",
          "data": {
            "text/plain": [
              "tensor(16.8819)"
            ]
          },
          "metadata": {
            "tags": []
          },
          "execution_count": 22
        }
      ]
    },
    {
      "cell_type": "code",
      "metadata": {
        "id": "u44_7RuAuV7c"
      },
      "source": [
        "#Refactor matmul to have two loops not three\n",
        "def matmul(a,b):\n",
        "    #rows and columns of a\n",
        "    ar, ac = a.shape\n",
        "    br, bc = b.shape\n",
        "    assert ac == br\n",
        "    c = torch.zeros(ar, bc)\n",
        "\n",
        "    #two loops now\n",
        "    for i in range(ar):\n",
        "      for j in range(bc):\n",
        "        c[i,j] = (a[i,:] * b[:,j]).sum()\n",
        "    return c"
      ],
      "execution_count": 81,
      "outputs": []
    },
    {
      "cell_type": "code",
      "metadata": {
        "id": "sYMYqSRTzKjb"
      },
      "source": [
        "#broadcasting"
      ],
      "execution_count": 24,
      "outputs": []
    },
    {
      "cell_type": "code",
      "metadata": {
        "id": "ybGe6MpZ1VQG"
      },
      "source": [
        "c = tensor([10,20,30])"
      ],
      "execution_count": 25,
      "outputs": []
    },
    {
      "cell_type": "code",
      "metadata": {
        "colab": {
          "base_uri": "https://localhost:8080/"
        },
        "id": "GxcSnStm1VSA",
        "outputId": "d7439c9d-eea2-4f53-f672-92f3b3ac2c26"
      },
      "source": [
        "m"
      ],
      "execution_count": 26,
      "outputs": [
        {
          "output_type": "execute_result",
          "data": {
            "text/plain": [
              "tensor([[1, 2, 3],\n",
              "        [4, 5, 6],\n",
              "        [7, 8, 9]])"
            ]
          },
          "metadata": {
            "tags": []
          },
          "execution_count": 26
        }
      ]
    },
    {
      "cell_type": "code",
      "metadata": {
        "colab": {
          "base_uri": "https://localhost:8080/"
        },
        "id": "tvSDMS1ZzKph",
        "outputId": "7f44113c-fd2a-4d0b-dc12-f25debca82b4"
      },
      "source": [
        "m.shape, c.shape"
      ],
      "execution_count": 27,
      "outputs": [
        {
          "output_type": "execute_result",
          "data": {
            "text/plain": [
              "(torch.Size([3, 3]), torch.Size([3]))"
            ]
          },
          "metadata": {
            "tags": []
          },
          "execution_count": 27
        }
      ]
    },
    {
      "cell_type": "code",
      "metadata": {
        "colab": {
          "base_uri": "https://localhost:8080/"
        },
        "id": "SubcPxXsuV9R",
        "outputId": "408774be-467e-4209-e769-e3f6961f8eae"
      },
      "source": [
        "m+c"
      ],
      "execution_count": 28,
      "outputs": [
        {
          "output_type": "execute_result",
          "data": {
            "text/plain": [
              "tensor([[11, 22, 33],\n",
              "        [14, 25, 36],\n",
              "        [17, 28, 39]])"
            ]
          },
          "metadata": {
            "tags": []
          },
          "execution_count": 28
        }
      ]
    },
    {
      "cell_type": "code",
      "metadata": {
        "id": "1JA0wWsj3u6t"
      },
      "source": [
        "t = c.expand_as(m)"
      ],
      "execution_count": 29,
      "outputs": []
    },
    {
      "cell_type": "code",
      "metadata": {
        "colab": {
          "base_uri": "https://localhost:8080/"
        },
        "id": "k8v2H5em3u86",
        "outputId": "95db5206-b01c-47fd-f179-6742f6876e49"
      },
      "source": [
        "t"
      ],
      "execution_count": 30,
      "outputs": [
        {
          "output_type": "execute_result",
          "data": {
            "text/plain": [
              "tensor([[10, 20, 30],\n",
              "        [10, 20, 30],\n",
              "        [10, 20, 30]])"
            ]
          },
          "metadata": {
            "tags": []
          },
          "execution_count": 30
        }
      ]
    },
    {
      "cell_type": "code",
      "metadata": {
        "colab": {
          "base_uri": "https://localhost:8080/"
        },
        "id": "xS0u-0gk3u_E",
        "outputId": "f677da9d-37ff-41e1-889c-ae5f92712009"
      },
      "source": [
        "t.storage()"
      ],
      "execution_count": 31,
      "outputs": [
        {
          "output_type": "execute_result",
          "data": {
            "text/plain": [
              " 10\n",
              " 20\n",
              " 30\n",
              "[torch.LongStorage of size 3]"
            ]
          },
          "metadata": {
            "tags": []
          },
          "execution_count": 31
        }
      ]
    },
    {
      "cell_type": "code",
      "metadata": {
        "colab": {
          "base_uri": "https://localhost:8080/"
        },
        "id": "w0LJgka83vBM",
        "outputId": "41c93a60-3a72-4b7e-85cf-24753801cd2a"
      },
      "source": [
        "t.stride(), t.shape"
      ],
      "execution_count": 32,
      "outputs": [
        {
          "output_type": "execute_result",
          "data": {
            "text/plain": [
              "((0, 1), torch.Size([3, 3]))"
            ]
          },
          "metadata": {
            "tags": []
          },
          "execution_count": 32
        }
      ]
    },
    {
      "cell_type": "code",
      "metadata": {
        "colab": {
          "base_uri": "https://localhost:8080/"
        },
        "id": "EdxBTEOx3vDe",
        "outputId": "8fd3b8ba-c3d7-4ed2-8be6-229560a5048f"
      },
      "source": [
        "c.shape, c.unsqueeze(0).shape, c.unsqueeze(1).shape"
      ],
      "execution_count": 33,
      "outputs": [
        {
          "output_type": "execute_result",
          "data": {
            "text/plain": [
              "(torch.Size([3]), torch.Size([1, 3]), torch.Size([3, 1]))"
            ]
          },
          "metadata": {
            "tags": []
          },
          "execution_count": 33
        }
      ]
    },
    {
      "cell_type": "code",
      "metadata": {
        "colab": {
          "base_uri": "https://localhost:8080/"
        },
        "id": "HvVy6Lf13vHu",
        "outputId": "6cbfdfa4-9ecd-4559-a7d2-532abfe72039"
      },
      "source": [
        "c.shape, c[None,:].shape, c[:,None].shape"
      ],
      "execution_count": 34,
      "outputs": [
        {
          "output_type": "execute_result",
          "data": {
            "text/plain": [
              "(torch.Size([3]), torch.Size([1, 3]), torch.Size([3, 1]))"
            ]
          },
          "metadata": {
            "tags": []
          },
          "execution_count": 34
        }
      ]
    },
    {
      "cell_type": "code",
      "metadata": {
        "colab": {
          "base_uri": "https://localhost:8080/"
        },
        "id": "Fr9PyF_43vJq",
        "outputId": "fc5cb2de-3bc0-473f-cb5d-28fb92b92b62"
      },
      "source": [
        "c[:,None].expand_as(m)"
      ],
      "execution_count": 35,
      "outputs": [
        {
          "output_type": "execute_result",
          "data": {
            "text/plain": [
              "tensor([[10, 10, 10],\n",
              "        [20, 20, 20],\n",
              "        [30, 30, 30]])"
            ]
          },
          "metadata": {
            "tags": []
          },
          "execution_count": 35
        }
      ]
    },
    {
      "cell_type": "code",
      "metadata": {
        "colab": {
          "base_uri": "https://localhost:8080/"
        },
        "id": "wGNtg3kx3vL-",
        "outputId": "53e08a09-2603-47b1-d35d-01f1bf25dda7"
      },
      "source": [
        "m + c[:,None]"
      ],
      "execution_count": 36,
      "outputs": [
        {
          "output_type": "execute_result",
          "data": {
            "text/plain": [
              "tensor([[11, 12, 13],\n",
              "        [24, 25, 26],\n",
              "        [37, 38, 39]])"
            ]
          },
          "metadata": {
            "tags": []
          },
          "execution_count": 36
        }
      ]
    },
    {
      "cell_type": "code",
      "metadata": {
        "id": "6jxBtrMY3vOV"
      },
      "source": [
        "#Matrix Multiply with Broadcasting\n",
        "def matmul(a,b):\n",
        "  #rows and columns of a\n",
        "    ar, ac = a.shape\n",
        "    br, bc = b.shape\n",
        "    assert ac == br\n",
        "    c = torch.zeros(ar, bc)\n",
        "    for i in range(ar):\n",
        "      c[i] = (a[i].unsqueeze(-1) * b).sum(dim=0) # or you can write a[i,None] *b ... instead of unsqueeze\n",
        "\n",
        "    return c"
      ],
      "execution_count": 37,
      "outputs": []
    },
    {
      "cell_type": "code",
      "metadata": {
        "id": "-F93r0Hs3vQL"
      },
      "source": [
        "#Einstein Summation\n",
        "\n",
        "def matmul(a,b): return torch.einsum('ik,kj -> ij', a,b)"
      ],
      "execution_count": 38,
      "outputs": []
    },
    {
      "cell_type": "code",
      "metadata": {
        "id": "_AM4bH933vSn",
        "colab": {
          "base_uri": "https://localhost:8080/"
        },
        "outputId": "6980da4e-1fb5-4efe-b9b2-e09acdebe28e"
      },
      "source": [
        "%timeit -n 10 _=matmul(m1,m2)"
      ],
      "execution_count": 39,
      "outputs": [
        {
          "output_type": "stream",
          "text": [
            "The slowest run took 134.11 times longer than the fastest. This could mean that an intermediate result is being cached.\n",
            "10 loops, best of 5: 19.8 µs per loop\n"
          ],
          "name": "stdout"
        }
      ]
    },
    {
      "cell_type": "code",
      "metadata": {
        "id": "ng-HzZtC3vU8",
        "colab": {
          "base_uri": "https://localhost:8080/"
        },
        "outputId": "434cd8ee-b039-48ca-9174-357e10bb06f0"
      },
      "source": [
        "#Even faster than einsum is PyTorch Op, matmul as a method basically\n",
        "%timeit -n 10 t2 = m1.matmul(m2)"
      ],
      "execution_count": 40,
      "outputs": [
        {
          "output_type": "stream",
          "text": [
            "The slowest run took 7.11 times longer than the fastest. This could mean that an intermediate result is being cached.\n",
            "10 loops, best of 5: 7.63 µs per loop\n"
          ],
          "name": "stdout"
        }
      ]
    },
    {
      "cell_type": "code",
      "metadata": {
        "id": "HzVqIUL77s4E"
      },
      "source": [
        "#Forward and Backward passing, now we are doing NNs\n",
        "\n",
        "def normalize(x,m,s): return (x-m)/s"
      ],
      "execution_count": 41,
      "outputs": []
    },
    {
      "cell_type": "code",
      "metadata": {
        "colab": {
          "base_uri": "https://localhost:8080/"
        },
        "id": "tjDcrtUa7s6H",
        "outputId": "54a7c26f-192a-413d-aab3-56afa6ef6043"
      },
      "source": [
        "train_mean, train_std = x_train.mean(), x_train.std()\n",
        "train_mean, train_std"
      ],
      "execution_count": 42,
      "outputs": [
        {
          "output_type": "execute_result",
          "data": {
            "text/plain": [
              "(tensor(0.1304), tensor(0.3073))"
            ]
          },
          "metadata": {
            "tags": []
          },
          "execution_count": 42
        }
      ]
    },
    {
      "cell_type": "code",
      "metadata": {
        "colab": {
          "base_uri": "https://localhost:8080/"
        },
        "id": "Erk-dkLI7s8N",
        "outputId": "210a70b5-80c3-428d-eb6c-f81c9035b2fa"
      },
      "source": [
        "x_train = normalize(x_train, train_mean, train_std)\n",
        "x_valid = normalize(x_valid, train_mean, train_std)\n",
        "train_mean, train_std = x_train.mean(), x_train.std()\n",
        "train_mean, train_std"
      ],
      "execution_count": 43,
      "outputs": [
        {
          "output_type": "execute_result",
          "data": {
            "text/plain": [
              "(tensor(3.8966e-08), tensor(1.))"
            ]
          },
          "metadata": {
            "tags": []
          },
          "execution_count": 43
        }
      ]
    },
    {
      "cell_type": "code",
      "metadata": {
        "id": "QWWaj2d87s-o"
      },
      "source": [
        "def test_near_zero(a, tol=1e-3): assert a.abs()<tol, f\"Near zero: {a}\""
      ],
      "execution_count": 44,
      "outputs": []
    },
    {
      "cell_type": "code",
      "metadata": {
        "id": "1BNxvauX7tAp"
      },
      "source": [
        "test_near_zero(x_train.mean())\n",
        "test_near_zero(1-x_train.std())"
      ],
      "execution_count": 45,
      "outputs": []
    },
    {
      "cell_type": "code",
      "metadata": {
        "colab": {
          "base_uri": "https://localhost:8080/"
        },
        "id": "BYq48fJ17tC1",
        "outputId": "d00c78c9-f81f-4e61-9f77-a9c35a1ae557"
      },
      "source": [
        "n, m = x_train.shape\n",
        "c = y_train.max()+1\n",
        "n,m,c"
      ],
      "execution_count": 46,
      "outputs": [
        {
          "output_type": "execute_result",
          "data": {
            "text/plain": [
              "(50000, 784, tensor(10))"
            ]
          },
          "metadata": {
            "tags": []
          },
          "execution_count": 46
        }
      ]
    },
    {
      "cell_type": "code",
      "metadata": {
        "id": "a8MZfxFl7tE_"
      },
      "source": [
        "#Basic Architecture\n",
        "nh = 50"
      ],
      "execution_count": 47,
      "outputs": []
    },
    {
      "cell_type": "code",
      "metadata": {
        "id": "pPtZY29ZAfaJ"
      },
      "source": [
        "#Weights and Biases matrices\n",
        "w1 = torch.randn(m,nh)/math.sqrt(m)\n",
        "b1 = torch.zeros(nh)\n",
        "w2 = torch.randn(nh,1)/math.sqrt(nh)\n",
        "b2 = torch.zeros(1)"
      ],
      "execution_count": 48,
      "outputs": []
    },
    {
      "cell_type": "code",
      "metadata": {
        "id": "SE1wUh7wAfcj"
      },
      "source": [
        "test_near_zero(w1.mean())\n",
        "test_near_zero(w1.std()-1/math.sqrt(m))"
      ],
      "execution_count": 49,
      "outputs": []
    },
    {
      "cell_type": "code",
      "metadata": {
        "colab": {
          "base_uri": "https://localhost:8080/"
        },
        "id": "snfnoZIhAfel",
        "outputId": "47b5eb14-0201-4771-d4a7-4863d5f02f81"
      },
      "source": [
        "x_valid.mean(), x_valid.std()"
      ],
      "execution_count": 50,
      "outputs": [
        {
          "output_type": "execute_result",
          "data": {
            "text/plain": [
              "(tensor(-0.0059), tensor(0.9924))"
            ]
          },
          "metadata": {
            "tags": []
          },
          "execution_count": 50
        }
      ]
    },
    {
      "cell_type": "code",
      "metadata": {
        "id": "_Et8aWVMfGwj"
      },
      "source": [
        "def lin(x, w, b): return x@w + b "
      ],
      "execution_count": 51,
      "outputs": []
    },
    {
      "cell_type": "code",
      "metadata": {
        "colab": {
          "base_uri": "https://localhost:8080/"
        },
        "id": "ruiHbWEbfGzP",
        "outputId": "39b57b12-3969-4efd-9e03-92c74005da8c"
      },
      "source": [
        "t = lin(x_valid, w1, b1)\n",
        "t.mean(), t.std()"
      ],
      "execution_count": 52,
      "outputs": [
        {
          "output_type": "execute_result",
          "data": {
            "text/plain": [
              "(tensor(-0.1346), tensor(0.9773))"
            ]
          },
          "metadata": {
            "tags": []
          },
          "execution_count": 52
        }
      ]
    },
    {
      "cell_type": "code",
      "metadata": {
        "id": "hXzsgX7FAfga"
      },
      "source": [
        "#First layer will not just be a regular linear function, it will be a ReLu\n",
        "#The clamp function here just takes all neg. values and makes 0\n",
        "def relu(x): return x.clamp_min(0.)"
      ],
      "execution_count": 53,
      "outputs": []
    },
    {
      "cell_type": "code",
      "metadata": {
        "id": "fXPYBwk6DVFB",
        "colab": {
          "base_uri": "https://localhost:8080/"
        },
        "outputId": "1f9b4407-a423-4faf-8571-8c424358d4a4"
      },
      "source": [
        "t = relu(lin(x_valid, w1,b1))\n",
        "t.mean(), t.std()"
      ],
      "execution_count": 54,
      "outputs": [
        {
          "output_type": "execute_result",
          "data": {
            "text/plain": [
              "(tensor(0.3184), tensor(0.5361))"
            ]
          },
          "metadata": {
            "tags": []
          },
          "execution_count": 54
        }
      ]
    },
    {
      "cell_type": "code",
      "metadata": {
        "id": "hjqDoaPuDVHK"
      },
      "source": [
        "#kaiming initializing\n",
        "w1 = torch.randn(m,nh)*math.sqrt(2/m)"
      ],
      "execution_count": 55,
      "outputs": []
    },
    {
      "cell_type": "code",
      "metadata": {
        "id": "1YUOyExUDVJM",
        "colab": {
          "base_uri": "https://localhost:8080/"
        },
        "outputId": "f9f4eb87-6669-4f1b-af52-47193b274c2b"
      },
      "source": [
        "w1.mean(), w1.std()"
      ],
      "execution_count": 56,
      "outputs": [
        {
          "output_type": "execute_result",
          "data": {
            "text/plain": [
              "(tensor(-0.0002), tensor(0.0507))"
            ]
          },
          "metadata": {
            "tags": []
          },
          "execution_count": 56
        }
      ]
    },
    {
      "cell_type": "code",
      "metadata": {
        "id": "rw00SgwBAfit"
      },
      "source": [
        "from torch.nn import init"
      ],
      "execution_count": 57,
      "outputs": []
    },
    {
      "cell_type": "code",
      "metadata": {
        "id": "8K7qWrgdhXz1"
      },
      "source": [
        "w1 = torch.zeros(m,nh)\n",
        "init.kaiming_normal_(w1, mode='fan_out')\n",
        "t = relu(lin(x_valid, w1, b1))"
      ],
      "execution_count": 58,
      "outputs": []
    },
    {
      "cell_type": "code",
      "metadata": {
        "id": "rG8jyVMghX2Z"
      },
      "source": [
        "init.kaiming_normal_??"
      ],
      "execution_count": 59,
      "outputs": []
    },
    {
      "cell_type": "code",
      "metadata": {
        "colab": {
          "base_uri": "https://localhost:8080/"
        },
        "id": "ShoyhFCMhX4w",
        "outputId": "8a062b2f-2e98-42d5-da60-ea9d5559f09a"
      },
      "source": [
        "w1.mean(), w1.std()"
      ],
      "execution_count": 60,
      "outputs": [
        {
          "output_type": "execute_result",
          "data": {
            "text/plain": [
              "(tensor(0.0001), tensor(0.0507))"
            ]
          },
          "metadata": {
            "tags": []
          },
          "execution_count": 60
        }
      ]
    },
    {
      "cell_type": "code",
      "metadata": {
        "colab": {
          "base_uri": "https://localhost:8080/"
        },
        "id": "nCcf7iJKhX9H",
        "outputId": "6d02a090-4fdc-498f-94cb-5340ef5c0f1f"
      },
      "source": [
        "t.mean(), t.std()"
      ],
      "execution_count": 61,
      "outputs": [
        {
          "output_type": "execute_result",
          "data": {
            "text/plain": [
              "(tensor(0.5721), tensor(0.8229))"
            ]
          },
          "metadata": {
            "tags": []
          },
          "execution_count": 61
        }
      ]
    },
    {
      "cell_type": "code",
      "metadata": {
        "colab": {
          "base_uri": "https://localhost:8080/"
        },
        "id": "BCX7tRpShX_O",
        "outputId": "04b30889-9af9-4f03-b994-2cd33ffd8418"
      },
      "source": [
        "w1.shape"
      ],
      "execution_count": 62,
      "outputs": [
        {
          "output_type": "execute_result",
          "data": {
            "text/plain": [
              "torch.Size([784, 50])"
            ]
          },
          "metadata": {
            "tags": []
          },
          "execution_count": 62
        }
      ]
    },
    {
      "cell_type": "code",
      "metadata": {
        "id": "XdlTscbCejsv"
      },
      "source": [
        "import torch.nn"
      ],
      "execution_count": 63,
      "outputs": []
    },
    {
      "cell_type": "code",
      "metadata": {
        "colab": {
          "base_uri": "https://localhost:8080/"
        },
        "id": "LbIKxlYPlOFN",
        "outputId": "d8f046d2-ac96-4397-b79a-8e42b5668fe1"
      },
      "source": [
        "torch.nn.Linear(m,nh).weight.shape"
      ],
      "execution_count": 64,
      "outputs": [
        {
          "output_type": "execute_result",
          "data": {
            "text/plain": [
              "torch.Size([50, 784])"
            ]
          },
          "metadata": {
            "tags": []
          },
          "execution_count": 64
        }
      ]
    },
    {
      "cell_type": "code",
      "metadata": {
        "id": "uOCE6mqMlSc1"
      },
      "source": [
        "torch.nn.Linear.forward??"
      ],
      "execution_count": 65,
      "outputs": []
    },
    {
      "cell_type": "code",
      "metadata": {
        "id": "rn8BnxRolSfv"
      },
      "source": [
        "torch.nn.functional.linear??"
      ],
      "execution_count": 66,
      "outputs": []
    },
    {
      "cell_type": "code",
      "metadata": {
        "id": "sN7rgBfflOIF"
      },
      "source": [
        "torch.nn.Conv2d??"
      ],
      "execution_count": 67,
      "outputs": []
    },
    {
      "cell_type": "code",
      "metadata": {
        "id": "MrtEWgXslOKP"
      },
      "source": [
        "torch.nn.modules.conv._ConvNd.reset_parameters??"
      ],
      "execution_count": 68,
      "outputs": []
    },
    {
      "cell_type": "code",
      "metadata": {
        "id": "pcWoQHtGlOMf"
      },
      "source": [
        "#experiment\n",
        "def relu(x): return x.clamp_min(0.) - 0.5"
      ],
      "execution_count": 69,
      "outputs": []
    },
    {
      "cell_type": "code",
      "metadata": {
        "id": "dySDsuTHN6nx"
      },
      "source": [
        "w1 = torch.randn(m,nh)*math.sqrt(2./m)\n",
        "t1 = relu(lin(x_valid, w1, b1))"
      ],
      "execution_count": 70,
      "outputs": []
    },
    {
      "cell_type": "code",
      "metadata": {
        "id": "tAA-__wHN6p4",
        "colab": {
          "base_uri": "https://localhost:8080/"
        },
        "outputId": "2c3a0930-defa-4ea6-9770-ce56e2d074b6"
      },
      "source": [
        "t1.mean(), t1.std()"
      ],
      "execution_count": 71,
      "outputs": [
        {
          "output_type": "execute_result",
          "data": {
            "text/plain": [
              "(tensor(-0.0420), tensor(0.7335))"
            ]
          },
          "metadata": {
            "tags": []
          },
          "execution_count": 71
        }
      ]
    },
    {
      "cell_type": "code",
      "metadata": {
        "id": "NM2b5yp-N6sO"
      },
      "source": [
        "#super ultra mega basic model\n",
        "def model(xb):\n",
        "  layer1 = lin(xb, w1,b1)\n",
        "  activation1 = relu(layer1)\n",
        "  layer3 = lin(layer2, w2,b2)\n",
        "  return layer3"
      ],
      "execution_count": 72,
      "outputs": []
    },
    {
      "cell_type": "code",
      "metadata": {
        "id": "HpCDH927AOQX"
      },
      "source": [
        "#Gradients and Backwards Passes"
      ],
      "execution_count": null,
      "outputs": []
    },
    {
      "cell_type": "code",
      "metadata": {
        "id": "4sHHWoKA0Tiq"
      },
      "source": [
        "def msegrad(inp, targ):\n",
        "  #gradient of loss w/respect to prev layer output\n",
        "  #input is input - target^2, so the derivative of that is 2 * input- target\n",
        "  inp.g = 2 * (input.squeeze() - targ).unsqueeze(-1) / inp.shape[0]"
      ],
      "execution_count": 73,
      "outputs": []
    },
    {
      "cell_type": "code",
      "metadata": {
        "id": "EcUZK7vw0Tk3"
      },
      "source": [
        "def reluGrad(inp, out):\n",
        "  #gradient of relu w/respect to input activations\n",
        "  inp.g = (inp>0).float() * out.g"
      ],
      "execution_count": 74,
      "outputs": []
    },
    {
      "cell_type": "code",
      "metadata": {
        "id": "VuiiP-A00Tmy"
      },
      "source": [
        "def linGrad(inp, out, w, b):\n",
        "  #gradient of matmul w/respect to input\n",
        "  inp.g = out.g @ w.t()\n",
        "  w.g = (inp.unsqueeze(-1) * out.g.unsqueeze(-1)).sum(0)\n",
        "  b.g = out.g.sum(0)"
      ],
      "execution_count": 76,
      "outputs": []
    },
    {
      "cell_type": "code",
      "metadata": {
        "id": "rl2d5YU00ToU"
      },
      "source": [
        "def forward_and_backward(inp, targ):\n",
        "  #forward\n",
        "  layer1 = inp @ w1 + b1\n",
        "  layer2 = relu(layer1)\n",
        "  output = layer2 @ w2 + b2\n",
        "  loss = mse(inp,targ)\n",
        "\n",
        "  #backward\n",
        "  msegrad(output,targ)\n",
        "  linGrad(layer2, output, w2, b2)\n",
        "  reluGrad(layer1, layer2)\n",
        "  linGrad(inp, layer1, w1, b1)"
      ],
      "execution_count": 78,
      "outputs": []
    },
    {
      "cell_type": "code",
      "metadata": {
        "colab": {
          "base_uri": "https://localhost:8080/",
          "height": 232
        },
        "id": "tDGk2fvB0S33",
        "outputId": "b6d833c8-b15a-49da-b39e-c43d903521bf"
      },
      "source": [
        "#all our gradients now stored\n",
        "w1g = w1.g.clone()\n",
        "w2g = w2.g.clone()\n",
        "b1g = b1.g.clone()\n",
        "b2g = b2.g.clone()\n",
        "ig = x_train.g.clone()"
      ],
      "execution_count": 79,
      "outputs": [
        {
          "output_type": "error",
          "ename": "AttributeError",
          "evalue": "ignored",
          "traceback": [
            "\u001b[0;31m---------------------------------------------------------------------------\u001b[0m",
            "\u001b[0;31mAttributeError\u001b[0m                            Traceback (most recent call last)",
            "\u001b[0;32m<ipython-input-79-3982c941bba1>\u001b[0m in \u001b[0;36m<module>\u001b[0;34m()\u001b[0m\n\u001b[1;32m      1\u001b[0m \u001b[0;31m#all our gradients now stored\u001b[0m\u001b[0;34m\u001b[0m\u001b[0;34m\u001b[0m\u001b[0;34m\u001b[0m\u001b[0m\n\u001b[0;32m----> 2\u001b[0;31m \u001b[0mw1g\u001b[0m \u001b[0;34m=\u001b[0m \u001b[0mw1\u001b[0m\u001b[0;34m.\u001b[0m\u001b[0mg\u001b[0m\u001b[0;34m.\u001b[0m\u001b[0mclone\u001b[0m\u001b[0;34m(\u001b[0m\u001b[0;34m)\u001b[0m\u001b[0;34m\u001b[0m\u001b[0;34m\u001b[0m\u001b[0m\n\u001b[0m\u001b[1;32m      3\u001b[0m \u001b[0mw2g\u001b[0m \u001b[0;34m=\u001b[0m \u001b[0mw2\u001b[0m\u001b[0;34m.\u001b[0m\u001b[0mg\u001b[0m\u001b[0;34m.\u001b[0m\u001b[0mclone\u001b[0m\u001b[0;34m(\u001b[0m\u001b[0;34m)\u001b[0m\u001b[0;34m\u001b[0m\u001b[0;34m\u001b[0m\u001b[0m\n\u001b[1;32m      4\u001b[0m \u001b[0mb1g\u001b[0m \u001b[0;34m=\u001b[0m \u001b[0mb1\u001b[0m\u001b[0;34m.\u001b[0m\u001b[0mg\u001b[0m\u001b[0;34m.\u001b[0m\u001b[0mclone\u001b[0m\u001b[0;34m(\u001b[0m\u001b[0;34m)\u001b[0m\u001b[0;34m\u001b[0m\u001b[0;34m\u001b[0m\u001b[0m\n\u001b[1;32m      5\u001b[0m \u001b[0mb2g\u001b[0m \u001b[0;34m=\u001b[0m \u001b[0mb2\u001b[0m\u001b[0;34m.\u001b[0m\u001b[0mg\u001b[0m\u001b[0;34m.\u001b[0m\u001b[0mclone\u001b[0m\u001b[0;34m(\u001b[0m\u001b[0;34m)\u001b[0m\u001b[0;34m\u001b[0m\u001b[0;34m\u001b[0m\u001b[0m\n",
            "\u001b[0;31mAttributeError\u001b[0m: 'Tensor' object has no attribute 'g'"
          ]
        }
      ]
    },
    {
      "cell_type": "code",
      "metadata": {
        "id": "D0nHJofR0S5-"
      },
      "source": [
        ""
      ],
      "execution_count": null,
      "outputs": []
    },
    {
      "cell_type": "code",
      "metadata": {
        "id": "I_GqAQEI0S72"
      },
      "source": [
        ""
      ],
      "execution_count": null,
      "outputs": []
    },
    {
      "cell_type": "code",
      "metadata": {
        "id": "PGq2PdtrAOTB"
      },
      "source": [
        ""
      ],
      "execution_count": null,
      "outputs": []
    },
    {
      "cell_type": "code",
      "metadata": {
        "id": "5-j4_lrDAOVC"
      },
      "source": [
        ""
      ],
      "execution_count": null,
      "outputs": []
    },
    {
      "cell_type": "code",
      "metadata": {
        "id": "WYOUsBQfnQCN"
      },
      "source": [
        ""
      ],
      "execution_count": null,
      "outputs": []
    },
    {
      "cell_type": "code",
      "metadata": {
        "id": "VJw68QS3ej5e"
      },
      "source": [
        ""
      ],
      "execution_count": null,
      "outputs": []
    },
    {
      "cell_type": "code",
      "metadata": {
        "id": "-y-CnvWfej9r"
      },
      "source": [
        ""
      ],
      "execution_count": null,
      "outputs": []
    },
    {
      "cell_type": "code",
      "metadata": {
        "id": "iU0GDsCrqViH"
      },
      "source": [
        "from google.colab import drive\n",
        "drive.mount('/content/drive')"
      ],
      "execution_count": null,
      "outputs": []
    },
    {
      "cell_type": "code",
      "metadata": {
        "id": "CftyCvEM3tCM"
      },
      "source": [
        ""
      ],
      "execution_count": null,
      "outputs": []
    }
  ]
}